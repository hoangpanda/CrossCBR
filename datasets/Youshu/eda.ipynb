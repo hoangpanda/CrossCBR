{
 "cells": [
  {
   "cell_type": "code",
   "execution_count": 35,
   "metadata": {},
   "outputs": [],
   "source": [
    "import torch \n",
    "import numpy as np\n",
    "from scipy.sparse import csr_array\n",
    "import scipy.sparse as sp"
   ]
  },
  {
   "cell_type": "code",
   "execution_count": 17,
   "metadata": {},
   "outputs": [
    {
     "name": "stdout",
     "output_type": "stream",
     "text": [
      "8039 4771 32770\n"
     ]
    }
   ],
   "source": [
    "with open('./Youshu_data_size.txt') as f:\n",
    "    n_users, n_bundles, n_items = [int(k) for k in f.readline().split('\\t')]\n",
    "print(n_users, n_bundles, n_items)"
   ]
  },
  {
   "cell_type": "code",
   "execution_count": 40,
   "metadata": {},
   "outputs": [
    {
     "name": "stdout",
     "output_type": "stream",
     "text": [
      "[[   0 4339]\n",
      " [   0 1610]\n",
      " [   0 3571]\n",
      " ...\n",
      " [8036  187]\n",
      " [8036 2059]\n",
      " [8036 4401]]\n",
      "[1 1 1 ... 1 1 1]\n"
     ]
    },
    {
     "data": {
      "text/plain": [
       "array([[0, 0, 0, ..., 0, 0, 0],\n",
       "       [0, 0, 0, ..., 0, 0, 0],\n",
       "       [0, 0, 0, ..., 0, 0, 0],\n",
       "       ...,\n",
       "       [0, 0, 0, ..., 0, 0, 0],\n",
       "       [0, 0, 0, ..., 0, 0, 0],\n",
       "       [0, 0, 0, ..., 0, 0, 0]], dtype=int32)"
      ]
     },
     "execution_count": 40,
     "metadata": {},
     "output_type": "execute_result"
    }
   ],
   "source": [
    "with open('./user_bundle_tune.txt') as f:\n",
    "    u_b_pairs = list(map(\n",
    "        lambda s: tuple(int(i) for i in s.split('\\t')),\n",
    "        f.readlines()\n",
    "    ))\n",
    "indices = np.array(u_b_pairs, dtype=np.int32)\n",
    "values = np.ones(len(u_b_pairs), dtype=np.int32)\n",
    "print(indices)\n",
    "print(values)\n",
    "u_b_graph = sp.coo_matrix(\n",
    "    (values, (indices[:, 0], indices[:,1])), \n",
    "    shape = (n_users, n_bundles)\n",
    ").tocsr()\n",
    "u_b_graph.toarray()"
   ]
  },
  {
   "cell_type": "code",
   "execution_count": 52,
   "metadata": {},
   "outputs": [
    {
     "name": "stdout",
     "output_type": "stream",
     "text": [
      "[[1]\n",
      " [2]]\n"
     ]
    }
   ],
   "source": [
    "a = np.array([1,2])\n",
    "print(a[:, None])\n",
    "print(a.reshape(-1,1))"
   ]
  },
  {
   "cell_type": "code",
   "execution_count": 49,
   "metadata": {},
   "outputs": [
    {
     "name": "stdout",
     "output_type": "stream",
     "text": [
      "None\n"
     ]
    }
   ],
   "source": []
  }
 ],
 "metadata": {
  "kernelspec": {
   "display_name": "base",
   "language": "python",
   "name": "python3"
  },
  "language_info": {
   "codemirror_mode": {
    "name": "ipython",
    "version": 3
   },
   "file_extension": ".py",
   "mimetype": "text/x-python",
   "name": "python",
   "nbconvert_exporter": "python",
   "pygments_lexer": "ipython3",
   "version": "3.10.9"
  }
 },
 "nbformat": 4,
 "nbformat_minor": 2
}
