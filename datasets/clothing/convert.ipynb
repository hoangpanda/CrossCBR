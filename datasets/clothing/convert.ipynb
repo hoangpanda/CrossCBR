{
 "cells": [
  {
   "cell_type": "code",
   "execution_count": 1,
   "metadata": {},
   "outputs": [],
   "source": [
    "import pandas as pd \n",
    "import os "
   ]
  },
  {
   "cell_type": "markdown",
   "metadata": {},
   "source": [
    "**User Item**"
   ]
  },
  {
   "cell_type": "code",
   "execution_count": 2,
   "metadata": {},
   "outputs": [
    {
     "name": "stdout",
     "output_type": "stream",
     "text": [
      "num user: 965\n",
      "max user ID: 964\n",
      "num item: 4487\n",
      "max item ID: 237660\n"
     ]
    }
   ],
   "source": [
    "df = pd.read_csv('./user_item.csv')\n",
    "df = df.drop(columns=[\"timestamp\"])\n",
    "user = []\n",
    "item = []\n",
    "for i in range(df.shape[0]):\n",
    "    row = df.iloc[i]\n",
    "    x, y = row['user ID'], row['item ID']\n",
    "    user.append(x)\n",
    "    item.append(y)\n",
    "\n",
    "user = set(user)\n",
    "item = set(item)\n",
    "print(f'num user: {len(user)}')\n",
    "print(f'max user ID: {max(user)}')\n",
    "\n",
    "print(f'num item: {len(item)}')\n",
    "print(f'max item ID: {max(item)}')"
   ]
  },
  {
   "cell_type": "markdown",
   "metadata": {},
   "source": [
    "**User bundle**"
   ]
  },
  {
   "cell_type": "code",
   "execution_count": 3,
   "metadata": {},
   "outputs": [
    {
     "name": "stdout",
     "output_type": "stream",
     "text": [
      "num user: 965\n",
      "max user ID: 964\n",
      "num bundle: 1910\n",
      "max bundle ID: 1909\n"
     ]
    }
   ],
   "source": [
    "df = pd.read_csv('./user_bundle.csv')\n",
    "df = df.drop(columns=[\"timestamp\"])\n",
    "user = []\n",
    "bundle = []\n",
    "for i in range(df.shape[0]):\n",
    "    row = df.iloc[i]\n",
    "    x, y = row['user ID'], row['bundle ID']\n",
    "    user.append(x)\n",
    "    bundle.append(y)\n",
    "\n",
    "user = set(user)\n",
    "bundle = set(bundle)\n",
    "print(f'num user: {len(user)}')\n",
    "print(f'max user ID: {max(user)}')\n",
    "\n",
    "print(f'num bundle: {len(bundle)}')\n",
    "print(f'max bundle ID: {max(bundle)}')"
   ]
  },
  {
   "cell_type": "markdown",
   "metadata": {},
   "source": [
    "**Bundle Item**"
   ]
  },
  {
   "cell_type": "code",
   "execution_count": 4,
   "metadata": {},
   "outputs": [
    {
     "name": "stdout",
     "output_type": "stream",
     "text": [
      "num bundle: 1910\n",
      "max bundle ID: 1909\n",
      "num user: 4487\n",
      "max user ID: 237660\n"
     ]
    }
   ],
   "source": [
    "df = pd.read_csv('./bundle_item.csv')\n",
    "#df = df.drop(columns=[\"timestamp\"])\n",
    "item = []\n",
    "bundle = []\n",
    "for i in range(df.shape[0]):\n",
    "    row = df.iloc[i]\n",
    "    x, y = row['bundle ID'], row['item ID']\n",
    "    bundle.append(x)\n",
    "    item.append(y)\n",
    "\n",
    "bundle = set(bundle)\n",
    "item = set(item)\n",
    "print(f'num bundle: {len(bundle)}')\n",
    "print(f'max bundle ID: {max(bundle)}')\n",
    "\n",
    "print(f'num user: {len(item)}')\n",
    "print(f'max user ID: {max(item)}')\n"
   ]
  },
  {
   "cell_type": "code",
   "execution_count": 5,
   "metadata": {},
   "outputs": [
    {
     "name": "stdout",
     "output_type": "stream",
     "text": [
      "965 1910 4487\n"
     ]
    }
   ],
   "source": [
    "num_user, num_bundle, num_item = len(user), len(bundle), len(item)\n",
    "print(num_user, num_bundle, num_item)"
   ]
  },
  {
   "cell_type": "markdown",
   "metadata": {},
   "source": [
    "**Mapping Item**"
   ]
  },
  {
   "cell_type": "code",
   "execution_count": 6,
   "metadata": {},
   "outputs": [],
   "source": [
    "item_mapping_set = sorted(item)\n",
    "mapping_function = dict()\n",
    "for i in range(len(item_mapping_set)):\n",
    "    mapping_function[item_mapping_set[i]] = i\n",
    "# mapping_function"
   ]
  },
  {
   "cell_type": "code",
   "execution_count": 7,
   "metadata": {},
   "outputs": [
    {
     "data": {
      "text/html": [
       "<div>\n",
       "<style scoped>\n",
       "    .dataframe tbody tr th:only-of-type {\n",
       "        vertical-align: middle;\n",
       "    }\n",
       "\n",
       "    .dataframe tbody tr th {\n",
       "        vertical-align: top;\n",
       "    }\n",
       "\n",
       "    .dataframe thead th {\n",
       "        text-align: right;\n",
       "    }\n",
       "</style>\n",
       "<table border=\"1\" class=\"dataframe\">\n",
       "  <thead>\n",
       "    <tr style=\"text-align: right;\">\n",
       "      <th></th>\n",
       "      <th>user ID</th>\n",
       "      <th>item ID</th>\n",
       "    </tr>\n",
       "  </thead>\n",
       "  <tbody>\n",
       "    <tr>\n",
       "      <th>0</th>\n",
       "      <td>0</td>\n",
       "      <td>2601</td>\n",
       "    </tr>\n",
       "    <tr>\n",
       "      <th>1</th>\n",
       "      <td>0</td>\n",
       "      <td>2415</td>\n",
       "    </tr>\n",
       "    <tr>\n",
       "      <th>2</th>\n",
       "      <td>1</td>\n",
       "      <td>2774</td>\n",
       "    </tr>\n",
       "    <tr>\n",
       "      <th>3</th>\n",
       "      <td>1</td>\n",
       "      <td>56</td>\n",
       "    </tr>\n",
       "    <tr>\n",
       "      <th>4</th>\n",
       "      <td>2</td>\n",
       "      <td>167</td>\n",
       "    </tr>\n",
       "  </tbody>\n",
       "</table>\n",
       "</div>"
      ],
      "text/plain": [
       "   user ID  item ID\n",
       "0        0     2601\n",
       "1        0     2415\n",
       "2        1     2774\n",
       "3        1       56\n",
       "4        2      167"
      ]
     },
     "execution_count": 7,
     "metadata": {},
     "output_type": "execute_result"
    }
   ],
   "source": [
    "df_ui = pd.read_csv('./user_item.csv')\n",
    "df_ui = df_ui.drop(columns=[\"timestamp\"])\n",
    "df_ui['item ID'] = df_ui['item ID'].map(mapping_function)\n",
    "df_ui.head()"
   ]
  },
  {
   "cell_type": "code",
   "execution_count": 8,
   "metadata": {},
   "outputs": [],
   "source": [
    "path = './user_item.txt'\n",
    "if os.path.exists(path):\n",
    "    os.remove(path) \n",
    "with open(path, 'a') as f:\n",
    "    for i in range(df_ui.shape[0]):\n",
    "        row = df_ui.iloc[i]\n",
    "        x, y = row['user ID'], row['item ID']\n",
    "        f.write(f'{x}\\t{y}\\n')"
   ]
  },
  {
   "cell_type": "code",
   "execution_count": 9,
   "metadata": {},
   "outputs": [
    {
     "data": {
      "text/html": [
       "<div>\n",
       "<style scoped>\n",
       "    .dataframe tbody tr th:only-of-type {\n",
       "        vertical-align: middle;\n",
       "    }\n",
       "\n",
       "    .dataframe tbody tr th {\n",
       "        vertical-align: top;\n",
       "    }\n",
       "\n",
       "    .dataframe thead th {\n",
       "        text-align: right;\n",
       "    }\n",
       "</style>\n",
       "<table border=\"1\" class=\"dataframe\">\n",
       "  <thead>\n",
       "    <tr style=\"text-align: right;\">\n",
       "      <th></th>\n",
       "      <th>bundle ID</th>\n",
       "      <th>item ID</th>\n",
       "    </tr>\n",
       "  </thead>\n",
       "  <tbody>\n",
       "    <tr>\n",
       "      <th>0</th>\n",
       "      <td>0</td>\n",
       "      <td>3245</td>\n",
       "    </tr>\n",
       "    <tr>\n",
       "      <th>1</th>\n",
       "      <td>0</td>\n",
       "      <td>3525</td>\n",
       "    </tr>\n",
       "    <tr>\n",
       "      <th>2</th>\n",
       "      <td>1</td>\n",
       "      <td>658</td>\n",
       "    </tr>\n",
       "    <tr>\n",
       "      <th>3</th>\n",
       "      <td>1</td>\n",
       "      <td>2862</td>\n",
       "    </tr>\n",
       "    <tr>\n",
       "      <th>4</th>\n",
       "      <td>1</td>\n",
       "      <td>1140</td>\n",
       "    </tr>\n",
       "  </tbody>\n",
       "</table>\n",
       "</div>"
      ],
      "text/plain": [
       "   bundle ID  item ID\n",
       "0          0     3245\n",
       "1          0     3525\n",
       "2          1      658\n",
       "3          1     2862\n",
       "4          1     1140"
      ]
     },
     "execution_count": 9,
     "metadata": {},
     "output_type": "execute_result"
    }
   ],
   "source": [
    "df_bi = pd.read_csv('./bundle_item.csv')\n",
    "#df_bi = df_bi.drop(columns=[\"timestamp\"])\n",
    "df_bi['item ID'] = df_bi['item ID'].map(mapping_function)\n",
    "df_bi.head()"
   ]
  },
  {
   "cell_type": "code",
   "execution_count": 10,
   "metadata": {},
   "outputs": [],
   "source": [
    "path = './bundle_item.txt'\n",
    "if os.path.exists(path):\n",
    "    os.remove(path) \n",
    "with open(path, 'a') as f:\n",
    "    for i in range(df_bi.shape[0]):\n",
    "        row = df_bi.iloc[i]\n",
    "        x, y = row['bundle ID'], row['item ID']\n",
    "        f.write(f'{x}\\t{y}\\n')"
   ]
  },
  {
   "cell_type": "code",
   "execution_count": 11,
   "metadata": {},
   "outputs": [
    {
     "data": {
      "text/html": [
       "<div>\n",
       "<style scoped>\n",
       "    .dataframe tbody tr th:only-of-type {\n",
       "        vertical-align: middle;\n",
       "    }\n",
       "\n",
       "    .dataframe tbody tr th {\n",
       "        vertical-align: top;\n",
       "    }\n",
       "\n",
       "    .dataframe thead th {\n",
       "        text-align: right;\n",
       "    }\n",
       "</style>\n",
       "<table border=\"1\" class=\"dataframe\">\n",
       "  <thead>\n",
       "    <tr style=\"text-align: right;\">\n",
       "      <th></th>\n",
       "      <th>user ID</th>\n",
       "      <th>bundle ID</th>\n",
       "    </tr>\n",
       "  </thead>\n",
       "  <tbody>\n",
       "    <tr>\n",
       "      <th>0</th>\n",
       "      <td>0</td>\n",
       "      <td>566</td>\n",
       "    </tr>\n",
       "    <tr>\n",
       "      <th>1</th>\n",
       "      <td>1</td>\n",
       "      <td>28</td>\n",
       "    </tr>\n",
       "    <tr>\n",
       "      <th>2</th>\n",
       "      <td>2</td>\n",
       "      <td>1682</td>\n",
       "    </tr>\n",
       "    <tr>\n",
       "      <th>3</th>\n",
       "      <td>3</td>\n",
       "      <td>1349</td>\n",
       "    </tr>\n",
       "    <tr>\n",
       "      <th>4</th>\n",
       "      <td>4</td>\n",
       "      <td>1752</td>\n",
       "    </tr>\n",
       "    <tr>\n",
       "      <th>...</th>\n",
       "      <td>...</td>\n",
       "      <td>...</td>\n",
       "    </tr>\n",
       "    <tr>\n",
       "      <th>1905</th>\n",
       "      <td>963</td>\n",
       "      <td>1125</td>\n",
       "    </tr>\n",
       "    <tr>\n",
       "      <th>1906</th>\n",
       "      <td>963</td>\n",
       "      <td>1126</td>\n",
       "    </tr>\n",
       "    <tr>\n",
       "      <th>1907</th>\n",
       "      <td>963</td>\n",
       "      <td>1127</td>\n",
       "    </tr>\n",
       "    <tr>\n",
       "      <th>1908</th>\n",
       "      <td>964</td>\n",
       "      <td>365</td>\n",
       "    </tr>\n",
       "    <tr>\n",
       "      <th>1909</th>\n",
       "      <td>964</td>\n",
       "      <td>366</td>\n",
       "    </tr>\n",
       "  </tbody>\n",
       "</table>\n",
       "<p>1910 rows × 2 columns</p>\n",
       "</div>"
      ],
      "text/plain": [
       "      user ID  bundle ID\n",
       "0           0        566\n",
       "1           1         28\n",
       "2           2       1682\n",
       "3           3       1349\n",
       "4           4       1752\n",
       "...       ...        ...\n",
       "1905      963       1125\n",
       "1906      963       1126\n",
       "1907      963       1127\n",
       "1908      964        365\n",
       "1909      964        366\n",
       "\n",
       "[1910 rows x 2 columns]"
      ]
     },
     "execution_count": 11,
     "metadata": {},
     "output_type": "execute_result"
    }
   ],
   "source": [
    "df_ub = pd.read_csv('./user_bundle.csv')\n",
    "df_ub = df_ub.drop(columns=[\"timestamp\"])\n",
    "df_ub"
   ]
  },
  {
   "cell_type": "code",
   "execution_count": 12,
   "metadata": {},
   "outputs": [],
   "source": [
    "x = []\n",
    "y = []\n",
    "for i in range(df_ub.shape[0]):\n",
    "    row = df_ub.iloc[i]\n",
    "    x.append(row['user ID'])\n",
    "    y.append(row['bundle ID'])"
   ]
  },
  {
   "cell_type": "code",
   "execution_count": 13,
   "metadata": {},
   "outputs": [],
   "source": [
    "from sklearn.model_selection import train_test_split\n",
    "x_train, x_tune_test, y_train, y_tune_test = train_test_split(\n",
    "    x,y,\n",
    "    test_size = 0.2\n",
    ")\n",
    "\n",
    "x_tune, x_test, y_tune, y_test = train_test_split(\n",
    "    x_tune_test, y_tune_test,\n",
    "    test_size=0.5\n",
    ")"
   ]
  },
  {
   "cell_type": "code",
   "execution_count": 23,
   "metadata": {},
   "outputs": [],
   "source": [
    "df = pd.DataFrame(x_train, columns=['x_train'])\n",
    "df['y_train'] = y_train\n",
    "df = df.sort_values(by=['x_train'])\n",
    "\n",
    "path = './user_bundle_train.txt'\n",
    "if os.path.exists(path):\n",
    "    os.remove(path) \n",
    "with open(path, 'a') as f:\n",
    "    for i in range(df.shape[0]):\n",
    "        row = df.iloc[i]\n",
    "        x, y = row['x_train'], row['y_train']\n",
    "        f.write(f'{x}\\t{y}\\n')"
   ]
  },
  {
   "cell_type": "code",
   "execution_count": 24,
   "metadata": {},
   "outputs": [],
   "source": [
    "df = pd.DataFrame(x_tune, columns=['x_tune'])\n",
    "df['y_tune'] = y_tune\n",
    "df = df.sort_values(by=['x_tune'])\n",
    "\n",
    "path = './user_bundle_tune.txt'\n",
    "if os.path.exists(path):\n",
    "    os.remove(path) \n",
    "with open(path, 'a') as f:\n",
    "    for i in range(df.shape[0]):\n",
    "        row = df.iloc[i]\n",
    "        x, y = row['x_tune'], row['y_tune']\n",
    "        f.write(f'{x}\\t{y}\\n')"
   ]
  },
  {
   "cell_type": "code",
   "execution_count": 25,
   "metadata": {},
   "outputs": [],
   "source": [
    "df = pd.DataFrame(x_test, columns=['x_test'])\n",
    "df['y_test'] = y_test\n",
    "df = df.sort_values(by=['x_test'])\n",
    "\n",
    "path = './user_bundle_test.txt'\n",
    "if os.path.exists(path):\n",
    "    os.remove(path) \n",
    "with open(path, 'a') as f:\n",
    "    for i in range(df.shape[0]):\n",
    "        row = df.iloc[i]\n",
    "        x, y = row['x_test'], row['y_test']\n",
    "        f.write(f'{x}\\t{y}\\n')"
   ]
  }
 ],
 "metadata": {
  "kernelspec": {
   "display_name": "base",
   "language": "python",
   "name": "python3"
  },
  "language_info": {
   "codemirror_mode": {
    "name": "ipython",
    "version": 3
   },
   "file_extension": ".py",
   "mimetype": "text/x-python",
   "name": "python",
   "nbconvert_exporter": "python",
   "pygments_lexer": "ipython3",
   "version": "3.10.9"
  }
 },
 "nbformat": 4,
 "nbformat_minor": 2
}
