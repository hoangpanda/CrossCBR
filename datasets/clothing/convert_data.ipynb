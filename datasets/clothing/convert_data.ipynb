{
 "cells": [
  {
   "cell_type": "code",
   "execution_count": 1,
   "metadata": {},
   "outputs": [],
   "source": [
    "import pandas as pd "
   ]
  },
  {
   "cell_type": "code",
   "execution_count": 2,
   "metadata": {},
   "outputs": [],
   "source": [
    "df = pd.read_csv('./bundle_item.csv')\n",
    "with open('./bundle_item.txt', 'a') as f:\n",
    "    for i in range(df.shape[0]):\n",
    "        x, y = df.iloc[i][\"bundle ID\"], df.iloc[i][\"item ID\"]\n",
    "        f.write(f'{x}\\t{y}\\n')"
   ]
  },
  {
   "cell_type": "code",
   "execution_count": 3,
   "metadata": {},
   "outputs": [],
   "source": [
    "df = pd.read_csv('./user_bundle.csv') \n",
    "df.head()\n",
    "df = df.drop(columns=[\"timestamp\"])"
   ]
  },
  {
   "cell_type": "code",
   "execution_count": 4,
   "metadata": {},
   "outputs": [],
   "source": [
    "with open('./user_bundle.txt', 'a') as f:\n",
    "    for i in range(df.shape[0]):\n",
    "        x, y = df.iloc[i][\"user ID\"], df.iloc[i][\"bundle ID\"]\n",
    "        f.write(f'{x}\\t{y}\\n')"
   ]
  },
  {
   "cell_type": "code",
   "execution_count": 5,
   "metadata": {},
   "outputs": [
    {
     "data": {
      "text/html": [
       "<div>\n",
       "<style scoped>\n",
       "    .dataframe tbody tr th:only-of-type {\n",
       "        vertical-align: middle;\n",
       "    }\n",
       "\n",
       "    .dataframe tbody tr th {\n",
       "        vertical-align: top;\n",
       "    }\n",
       "\n",
       "    .dataframe thead th {\n",
       "        text-align: right;\n",
       "    }\n",
       "</style>\n",
       "<table border=\"1\" class=\"dataframe\">\n",
       "  <thead>\n",
       "    <tr style=\"text-align: right;\">\n",
       "      <th></th>\n",
       "      <th>user ID</th>\n",
       "      <th>item ID</th>\n",
       "    </tr>\n",
       "  </thead>\n",
       "  <tbody>\n",
       "    <tr>\n",
       "      <th>0</th>\n",
       "      <td>0</td>\n",
       "      <td>168313</td>\n",
       "    </tr>\n",
       "    <tr>\n",
       "      <th>1</th>\n",
       "      <td>0</td>\n",
       "      <td>156291</td>\n",
       "    </tr>\n",
       "    <tr>\n",
       "      <th>2</th>\n",
       "      <td>1</td>\n",
       "      <td>179737</td>\n",
       "    </tr>\n",
       "    <tr>\n",
       "      <th>3</th>\n",
       "      <td>1</td>\n",
       "      <td>3272</td>\n",
       "    </tr>\n",
       "    <tr>\n",
       "      <th>4</th>\n",
       "      <td>2</td>\n",
       "      <td>10373</td>\n",
       "    </tr>\n",
       "  </tbody>\n",
       "</table>\n",
       "</div>"
      ],
      "text/plain": [
       "   user ID  item ID\n",
       "0        0   168313\n",
       "1        0   156291\n",
       "2        1   179737\n",
       "3        1     3272\n",
       "4        2    10373"
      ]
     },
     "execution_count": 5,
     "metadata": {},
     "output_type": "execute_result"
    }
   ],
   "source": [
    "df = pd.read_csv('./user_item.csv')\n",
    "df = df.drop(columns=[\"timestamp\"])\n",
    "df.head()"
   ]
  },
  {
   "cell_type": "code",
   "execution_count": 6,
   "metadata": {},
   "outputs": [],
   "source": [
    "with open('./user_item.txt', 'a') as f:\n",
    "    for i in range(df.shape[0]):\n",
    "        x, y = df.iloc[i][\"user ID\"], df.iloc[i][\"item ID\"]\n",
    "        f.write(f'{x}\\t{y}\\n')"
   ]
  },
  {
   "cell_type": "code",
   "execution_count": 8,
   "metadata": {},
   "outputs": [
    {
     "name": "stdout",
     "output_type": "stream",
     "text": [
      "1432\n",
      "478\n",
      "239\n",
      "239\n"
     ]
    }
   ],
   "source": [
    "with open('./user_bundle.txt', 'r') as f:\n",
    "    lines = f.readlines()\n",
    "\n",
    "user = []\n",
    "bundle = []\n",
    "\n",
    "for i in range(len(lines)):\n",
    "    x = lines[i].split('\\t')\n",
    "    # print(x)\n",
    "    user.append(int(x[0]))\n",
    "    bundle.append(int(x[1]))\n",
    "#print(user)\n",
    "#print(bundle)\n",
    "from sklearn.model_selection import train_test_split\n",
    "\n",
    "x_train, x_val_test, y_train, y_val_test = train_test_split(user, bundle, test_size=0.25)\n",
    "print(len(x_train))\n",
    "print(len(x_val_test))\n",
    "\n",
    "x_val, x_test, y_val, y_test = train_test_split(x_val_test, y_val_test, test_size=0.5)\n",
    "print(len(x_val))\n",
    "print(len(x_test))\n",
    "\n",
    "with open('./user_bundle_train.txt', 'a') as f:\n",
    "    for i in range(len(x_train)):\n",
    "        f.write(f'{x_train[i]}\\t{y_train[i]}\\n')\n",
    "\n",
    "with open('./user_bundle_test.txt', 'a') as f:\n",
    "    for i in range(len(x_test)):\n",
    "        f.write(f'{x_test[i]}\\t{y_test[i]}\\n')\n",
    "\n",
    "with open('./user_bundle_val.txt', 'a') as f:\n",
    "    for i in range(len(x_val)):\n",
    "        f.write(f'{x_val[i]}\\t{y_val[i]}\\n')"
   ]
  },
  {
   "cell_type": "code",
   "execution_count": 9,
   "metadata": {},
   "outputs": [],
   "source": [
    "user_size = 965\n",
    "bundle_size = 1910 \n",
    "item_size = 4487\n",
    "with open('./clothing_data_size.txt', 'a') as f:\n",
    "    f.write(f'{user_size}\\t{bundle_size}\\t{item_size}')"
   ]
  },
  {
   "cell_type": "code",
   "execution_count": 22,
   "metadata": {},
   "outputs": [
    {
     "name": "stdout",
     "output_type": "stream",
     "text": [
      "num bundle: 1910\n",
      "1909\n"
     ]
    }
   ],
   "source": [
    "with open('./bundle_item.txt', 'r') as f:\n",
    "    lines = f.readlines()\n",
    "\n",
    "bundle = []\n",
    "for line in lines:\n",
    "    x = line.split('\\t')\n",
    "    bundle.append(int(x[0]))\n",
    "\n",
    "# 965 1910 4487\n",
    "\n",
    "x = set(bundle)\n",
    "print(f'num bundle: {len(x)}')\n",
    "print(max(x))"
   ]
  },
  {
   "cell_type": "code",
   "execution_count": 16,
   "metadata": {},
   "outputs": [
    {
     "name": "stdout",
     "output_type": "stream",
     "text": [
      "{1, 2}\n"
     ]
    }
   ],
   "source": [
    "x = [1,1,2]\n",
    "print(set(x))"
   ]
  }
 ],
 "metadata": {
  "kernelspec": {
   "display_name": "base",
   "language": "python",
   "name": "python3"
  },
  "language_info": {
   "codemirror_mode": {
    "name": "ipython",
    "version": 3
   },
   "file_extension": ".py",
   "mimetype": "text/x-python",
   "name": "python",
   "nbconvert_exporter": "python",
   "pygments_lexer": "ipython3",
   "version": "3.10.9"
  }
 },
 "nbformat": 4,
 "nbformat_minor": 2
}
